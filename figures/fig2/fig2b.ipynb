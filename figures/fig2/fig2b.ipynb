{
 "cells": [
  {
   "cell_type": "code",
   "execution_count": 6,
   "metadata": {},
   "outputs": [
    {
     "data": {
      "image/png": "[encoded data removed]",
      "text/plain": [
       "<Figure size 307x267 with 1 Axes>"
      ]
     },
     "metadata": {},
     "output_type": "display_data"
    }
   ],
   "source": [
    "# Import required libraries\n",
    "import pandas as pd\n",
    "import numpy as np\n",
    "import matplotlib.pyplot as plt\n",
    "import colormaps as cmaps\n",
    "import matplotlib\n",
    "\n",
    "# Get colors from lipari colormap for plotting\n",
    "yellow = cmaps.lipari[225].colors  # Yellow color for FBA bars\n",
    "blue = cmaps.lipari[60].colors     # Blue color for FCL bars\n",
    "colors = [yellow, blue]            # List of colors for plotting\n",
    "\n",
    "# Define metrics to analyze\n",
    "metrics = ['Essential', 'Nonessential']\n",
    "\n",
    "# Load data from CSV and separate by model type\n",
    "df = pd.read_csv('fig2ab.csv')\n",
    "rf_data = df[df['label'] == 'Random Forest']   # Random Forest/FCL data\n",
    "fba_data = df[df['label'] == 'FBA']           # FBA data\n",
    "\n",
    "# Calculate mean and standard error for Random Forest results\n",
    "rf_means = rf_data[metrics].mean()\n",
    "rf_stds = rf_data[metrics].sem()\n",
    "\n",
    "# Get FBA values (single row since FBA has one set of results)\n",
    "fba_values = fba_data[metrics].iloc[0]\n",
    "\n",
    "# Create figure and axis with specified size\n",
    "fig, ax = plt.subplots(figsize=(3.07, 2.67))\n",
    "x = np.arange(len(metrics))\n",
    "width = 0.4  # Width of bars\n",
    "\n",
    "# Plot Random Forest/FCL bars with error bars\n",
    "ax.bar(x + width, rf_means, width, yerr=rf_stds, capsize=2, label='FCL', color=blue)\n",
    "\n",
    "# Plot FBA bars\n",
    "ax.bar(x, fba_values, width, label='FBA', color=yellow)\n",
    "\n",
    "# Set y-axis label and font size\n",
    "ax.set_ylabel(\"Score\", fontsize=12)\n",
    "\n",
    "# Set x-axis ticks and labels\n",
    "ax.set_xticks(x+width/2)\n",
    "ax.set_xticklabels(['Essential', 'Nonessential'])\n",
    "ax.set_ylim([0.6, 1.01])\n",
    "\n",
    "# Customize plot appearance by removing top and right spines\n",
    "# and thickening left and bottom spines\n",
    "ax.spines['top'].set_visible(False)\n",
    "ax.spines['right'].set_visible(False)\n",
    "ax.spines['left'].set_linewidth(1.5)\n",
    "ax.spines['bottom'].set_linewidth(1.5)\n",
    "\n",
    "# Set tick parameters for both axes\n",
    "ax.xaxis.set_tick_params(width=2, labelsize=12)\n",
    "ax.yaxis.set_tick_params(width=2, labelsize=10)\n",
    "\n",
    "# Adjust x-tick label rotation and alignment\n",
    "plt.xticks(rotation=0, ha=\"center\")\n",
    "\n",
    "# Add and customize legend\n",
    "legend = plt.legend(ncols=1, loc='upper right', bbox_to_anchor=(0.5, 1.15), fontsize=12)\n",
    "legend.get_frame().set_facecolor('none')\n",
    "legend.get_frame().set_linewidth(0.0)\n",
    "\n",
    "# Adjust layout to prevent label cutoff\n",
    "fig.tight_layout()\n"
   ]
  },
  {
   "cell_type": "code",
   "execution_count": null,
   "metadata": {},
   "outputs": [],
   "source": []
  }
 ],
 "metadata": {
  "kernelspec": {
   "display_name": "viz",
   "language": "python",
   "name": "python3"
  },
  "language_info": {
   "codemirror_mode": {
    "name": "ipython",
    "version": 3
   },
   "file_extension": ".py",
   "mimetype": "text/x-python",
   "name": "python",
   "nbconvert_exporter": "python",
   "pygments_lexer": "ipython3",
   "version": "3.12.3"
  }
 },
 "nbformat": 4,
 "nbformat_minor": 2
}
