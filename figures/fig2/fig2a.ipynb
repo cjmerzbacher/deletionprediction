{
 "cells": [
  {
   "cell_type": "code",
   "execution_count": 1,
   "metadata": {},
   "outputs": [
    {
     "data": {
      "image/png": "[encoded data removed]",
      "text/plain": [
       "<Figure size 523x254 with 1 Axes>"
      ]
     },
     "metadata": {},
     "output_type": "display_data"
    }
   ],
   "source": [
    "# Import required libraries\n",
    "import pandas as pd\n",
    "import numpy as np\n",
    "import matplotlib.pyplot as plt\n",
    "import seaborn as sns\n",
    "import colormaps as cmaps\n",
    "import matplotlib\n",
    "\n",
    "# Set font settings\n",
    "matplotlib.rcParams['font.family'] = \"sans-serif\"\n",
    "matplotlib.rcParams['font.sans-serif'] = \"Arial\"\n",
    "\n",
    "# Generate manual color palette from lipari colormap\n",
    "red = cmaps.lipari[128].colors\n",
    "yellow = cmaps.lipari[225].colors\n",
    "blue = cmaps.lipari[60].colors\n",
    "colors = [red, yellow, blue]\n",
    "\n",
    "# Read and separate data by model type\n",
    "df = pd.read_csv('fig2ab.csv')\n",
    "rf_data = df[df['label'] == 'Random Forest']\n",
    "fba_data = df[df['label'] == 'FBA']\n",
    "naive_data = df[df['label'] == 'Naive']\n",
    "\n",
    "# Define metrics to plot\n",
    "metrics = ['Accuracy', 'Precision', 'Recall', 'F1']\n",
    "\n",
    "# Compute mean and standard error for Random Forest (multiple runs)\n",
    "rf_means = rf_data[metrics].mean()\n",
    "rf_stds = rf_data[metrics].sem()\n",
    "\n",
    "# Get single values for FBA and Naive (single run)\n",
    "fba_values = fba_data[metrics].iloc[0]\n",
    "naive_values = naive_data[metrics].iloc[0]\n",
    "\n",
    "# Set up plot parameters\n",
    "x = np.arange(len(metrics))\n",
    "width = 0.25  # Width of bars\n",
    "\n",
    "# Create figure and axis\n",
    "fig, ax = plt.subplots(figsize=(5.23, 2.54))\n",
    "\n",
    "# Plot bars for each model\n",
    "ax.bar(x - width, naive_values, width, label='Naive', color=red)\n",
    "ax.bar(x + width, rf_means, width, yerr=rf_stds, capsize=2, label='FCL', color=blue)\n",
    "ax.bar(x, fba_values, width, label='FBA', color=yellow)\n",
    "\n",
    "# Set x-axis labels and ticks\n",
    "ax.set_xticks(x)\n",
    "ax.set_xticklabels(metrics)\n",
    "ax.set_ylim([0.7, 1])\n",
    "\n",
    "# Add labels and customize appearance\n",
    "ax.set_ylabel(\"Score\", fontsize=12)\n",
    "\n",
    "# Remove top and right spines, thicken remaining spines\n",
    "ax.spines['top'].set_visible(False)\n",
    "ax.spines['right'].set_visible(False)\n",
    "ax.spines['left'].set_linewidth(1.5)\n",
    "ax.spines['bottom'].set_linewidth(1.5)\n",
    "\n",
    "# Customize tick parameters\n",
    "ax.xaxis.set_tick_params(width=2, labelsize=12)\n",
    "ax.yaxis.set_tick_params(width=2, labelsize=10)\n",
    "\n",
    "# Adjust x-tick labels and legend\n",
    "plt.xticks(rotation=0, ha=\"center\")\n",
    "legend = plt.legend(ncols=3, loc='upper center', bbox_to_anchor=(0.5, 1.17), fontsize=12)\n",
    "legend.get_frame().set_facecolor('none')\n",
    "legend.get_frame().set_linewidth(0.0)\n",
    "\n",
    "# Adjust layout and display plot\n",
    "plt.tight_layout()\n",
    "plt.show()"
   ]
  },
  {
   "cell_type": "code",
   "execution_count": null,
   "metadata": {},
   "outputs": [],
   "source": []
  }
 ],
 "metadata": {
  "kernelspec": {
   "display_name": "viz",
   "language": "python",
   "name": "python3"
  },
  "language_info": {
   "codemirror_mode": {
    "name": "ipython",
    "version": 3
   },
   "file_extension": ".py",
   "mimetype": "text/x-python",
   "name": "python",
   "nbconvert_exporter": "python",
   "pygments_lexer": "ipython3",
   "version": "3.12.3"
  }
 },
 "nbformat": 4,
 "nbformat_minor": 2
}
